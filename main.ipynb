{
 "cells": [
  {
   "cell_type": "markdown",
   "id": "b969bdf0",
   "metadata": {},
   "source": [
    "# Notebook for Replication Study of “Counterfactual Generative Networks”\n",
    "*Danilo de Goede, Jesse Maas, Paul Hilders, Piyush Bagad*"
   ]
  },
  {
   "cell_type": "markdown",
   "id": "12d86025",
   "metadata": {},
   "source": [
    "## Imports"
   ]
  },
  {
   "cell_type": "code",
   "execution_count": null,
   "id": "0a63429e",
   "metadata": {},
   "outputs": [],
   "source": [
    "import torch\n",
    "import os\n",
    "from experiments.experiment_utils import set_env\n",
    "set_env()"
   ]
  },
  {
   "cell_type": "markdown",
   "id": "989d5ed5",
   "metadata": {},
   "source": [
    "## Introduction\n"
   ]
  },
  {
   "cell_type": "markdown",
   "id": "cd81ecee",
   "metadata": {},
   "source": [
    "lorem ipsum"
   ]
  },
  {
   "cell_type": "markdown",
   "id": "f0e26477",
   "metadata": {},
   "source": [
    "## Reproducibility results"
   ]
  },
  {
   "cell_type": "markdown",
   "id": "25e0de70",
   "metadata": {},
   "source": [
    "(TODO): explain structure of chapter"
   ]
  },
  {
   "cell_type": "markdown",
   "id": "98e412bf",
   "metadata": {},
   "source": [
    "### Qualitative analysis"
   ]
  },
  {
   "cell_type": "code",
   "execution_count": null,
   "id": "d6a142de",
   "metadata": {},
   "outputs": [],
   "source": [
    "from experiments import counterfactual_imagenet, counterfactual_mnist\n",
    "\n",
    "counterfactual_imagenet.main()\n",
    "counterfactual_mnist.main()"
   ]
  },
  {
   "cell_type": "markdown",
   "id": "742fda56",
   "metadata": {},
   "source": [
    "### Inception Score / Loss ablation (TODO choose name)"
   ]
  },
  {
   "cell_type": "code",
   "execution_count": null,
   "id": "ca723d6b",
   "metadata": {},
   "outputs": [],
   "source": []
  },
  {
   "cell_type": "markdown",
   "id": "6e5cf61e",
   "metadata": {},
   "source": [
    "### MNIST classification"
   ]
  },
  {
   "cell_type": "code",
   "execution_count": null,
   "id": "3bd13ab6",
   "metadata": {},
   "outputs": [],
   "source": []
  },
  {
   "cell_type": "markdown",
   "id": "d2a29311",
   "metadata": {},
   "source": [
    "### Shape vs Texture"
   ]
  },
  {
   "cell_type": "code",
   "execution_count": null,
   "id": "edf54c4f",
   "metadata": {},
   "outputs": [],
   "source": []
  },
  {
   "cell_type": "markdown",
   "id": "7efbf768",
   "metadata": {},
   "source": [
    "### Accuracies on ImageNet-9"
   ]
  },
  {
   "cell_type": "code",
   "execution_count": null,
   "id": "f85d2dcc",
   "metadata": {},
   "outputs": [],
   "source": []
  },
  {
   "cell_type": "markdown",
   "id": "94f2b5ac",
   "metadata": {},
   "source": [
    "### MNIST ablation study"
   ]
  },
  {
   "cell_type": "code",
   "execution_count": null,
   "id": "da789c01",
   "metadata": {},
   "outputs": [],
   "source": []
  },
  {
   "cell_type": "markdown",
   "id": "c2475a36",
   "metadata": {},
   "source": [
    "## Extension results"
   ]
  },
  {
   "cell_type": "markdown",
   "id": "021b1feb",
   "metadata": {},
   "source": [
    "### MNIST CGN improvement"
   ]
  },
  {
   "cell_type": "code",
   "execution_count": null,
   "id": "af5d5ec0",
   "metadata": {},
   "outputs": [],
   "source": []
  },
  {
   "cell_type": "markdown",
   "id": "eac03449",
   "metadata": {},
   "source": [
    "### Analysis of invariant classifier with Class Activation Map"
   ]
  },
  {
   "cell_type": "code",
   "execution_count": null,
   "id": "23fd5eaf",
   "metadata": {},
   "outputs": [],
   "source": []
  },
  {
   "cell_type": "markdown",
   "id": "08d773d8",
   "metadata": {},
   "source": [
    "### Empirical evaluation of counterfactual features"
   ]
  },
  {
   "cell_type": "code",
   "execution_count": null,
   "id": "9191145c",
   "metadata": {},
   "outputs": [],
   "source": [
    "# TODO: t-SNE"
   ]
  },
  {
   "cell_type": "markdown",
   "id": "e5a4bb78",
   "metadata": {},
   "source": [
    "### Analysing correlation between disentangled classifier outputs"
   ]
  },
  {
   "cell_type": "code",
   "execution_count": null,
   "id": "3ec885cb",
   "metadata": {},
   "outputs": [],
   "source": []
  },
  {
   "cell_type": "markdown",
   "id": "fa4212ba",
   "metadata": {},
   "source": [
    "## Conclusion"
   ]
  },
  {
   "cell_type": "markdown",
   "id": "b9a8ecc2",
   "metadata": {},
   "source": []
  }
 ],
 "metadata": {
  "kernelspec": {
   "display_name": "Python 3 (ipykernel)",
   "language": "python",
   "name": "python3"
  },
  "language_info": {
   "codemirror_mode": {
    "name": "ipython",
    "version": 3
   },
   "file_extension": ".py",
   "mimetype": "text/x-python",
   "name": "python",
   "nbconvert_exporter": "python",
   "pygments_lexer": "ipython3",
   "version": "3.9.7"
  }
 },
 "nbformat": 4,
 "nbformat_minor": 5
}
