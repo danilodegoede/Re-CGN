{
 "cells": [
  {
   "cell_type": "code",
   "execution_count": 1,
   "id": "2fd6f6a5-13ef-49b9-a03b-b7d4489babf0",
   "metadata": {},
   "outputs": [],
   "source": [
    "%load_ext autoreload\n",
    "%autoreload 2"
   ]
  },
  {
   "cell_type": "code",
   "execution_count": 2,
   "id": "b0160665-1027-451c-97be-c601dc31b8e7",
   "metadata": {},
   "outputs": [],
   "source": [
    "import numpy as np\n",
    "import pandas as pd"
   ]
  },
  {
   "cell_type": "markdown",
   "id": "9bb18881-6b82-4ca6-b3e4-cfa4e74d571b",
   "metadata": {},
   "source": [
    "## Results on `MNISTs`"
   ]
  },
  {
   "cell_type": "markdown",
   "id": "61ef8395-eb37-4e28-89dc-996535a0b9ec",
   "metadata": {},
   "source": [
    "### Step 1: Prepation - Run experiments on Lisa GPUs before visualizing results"
   ]
  },
  {
   "cell_type": "markdown",
   "id": "3044a221-c0d7-40c1-b4ee-b7b72a6d83f5",
   "metadata": {},
   "source": [
    "> **Note**: It might take a long time to run this on a CPU machine (~40 mins). Instead, we would recommend\n",
    "> running it on a Lisa GPU machine using the following instructions. That will run and generate all results\n",
    "> and then you could run the cell below which will display all the results."
   ]
  },
  {
   "cell_type": "markdown",
   "id": "5702e4a8-e549-4971-9aad-91692636a13b",
   "metadata": {},
   "source": [
    "**Instruction to run it on a Lisa GPU**\n",
    "1. Create a job script as follows and save it as `lisa_mnist.job`:\n",
    "\n",
    "```sh\n",
    "#!/bin/bash\n",
    "\n",
    "#SBATCH --partition=gpu_shared_course\n",
    "#SBATCH --gres=gpu:1\n",
    "#SBATCH --job-name=MNIST\n",
    "#SBATCH --ntasks=1\n",
    "#SBATCH --cpus-per-task=2\n",
    "#SBATCH --time=10:00:00\n",
    "#SBATCH --mem=32000M\n",
    "#SBATCH --output=slurm_output_%A.out\n",
    "\n",
    "module purge\n",
    "module load 2021\n",
    "module load Anaconda3/2021.05\n",
    "\n",
    "# Activate your environment\n",
    "source deactivate\n",
    "source activate gcn-gpu\n",
    "\n",
    "# Run your code\n",
    "## runs all experiments to reproduce Table 2 in the paper\n",
    "python mnist_pipeline.py\n",
    "## runs all additional analyses around explainability\n",
    "python mnist_analysis.py\n",
    "```\n",
    "\n",
    "2. Run the job script using \n",
    "\n",
    "```sh\n",
    "cd /path/to/repo/experiments/\n",
    "sbatch lisa_mnist.job\n",
    "```\n",
    "\n",
    "3. After these steps are done, you can run the following cells that will display the result."
   ]
  },
  {
   "cell_type": "markdown",
   "id": "9c2c5b37-dfbe-4f4b-8334-f8606a2ddc32",
   "metadata": {},
   "source": [
    "### Replication of Table 2"
   ]
  },
  {
   "cell_type": "code",
   "execution_count": null,
   "id": "fcb0dd2a-e0ac-4607-8e60-ac7c62a2cadd",
   "metadata": {},
   "outputs": [],
   "source": [
    "from mnist_pipeline import run_experiments"
   ]
  },
  {
   "cell_type": "code",
   "execution_count": null,
   "id": "d549c5c3-37ed-4af3-ae17-ce89feac6857",
   "metadata": {},
   "outputs": [],
   "source": [
    "df = run_experiments(seed=0, show=False)"
   ]
  },
  {
   "cell_type": "code",
   "execution_count": null,
   "id": "0f911c62-ddfd-4277-87d5-2ab60ef198a9",
   "metadata": {},
   "outputs": [],
   "source": [
    "df.index = [\"Original\", \"GAN\", \"CGN\", \"Original + GAN\", \"Original + CGN\"]"
   ]
  },
  {
   "cell_type": "code",
   "execution_count": null,
   "id": "28a6cc2d-f3bb-4aaf-8de7-ce232d7a90c4",
   "metadata": {},
   "outputs": [],
   "source": [
    "# show the results    \n",
    "df.astype(float).round(1)"
   ]
  },
  {
   "cell_type": "markdown",
   "id": "f130a9b4-0d1b-4983-a235-59d5bb804764",
   "metadata": {},
   "source": [
    "### Additional experiments: Explainability analyses"
   ]
  },
  {
   "cell_type": "code",
   "execution_count": null,
   "id": "2fd348db-e58d-4653-96e6-e325e8c7c885",
   "metadata": {},
   "outputs": [],
   "source": [
    "from mnist_analysis import run_analyses"
   ]
  },
  {
   "cell_type": "code",
   "execution_count": null,
   "id": "23e4920d-234c-49bf-83ed-8fcaf42d3f20",
   "metadata": {},
   "outputs": [],
   "source": [
    "run_analyses(\n",
    "    datasets=[\"colored_MNIST\", \"double_colored_MNIST\", \"wildlife_MNIST\"],\n",
    "    debug=False,\n",
    "    show=True,\n",
    "    ignore_cache=False,\n",
    ")"
   ]
  },
  {
   "cell_type": "markdown",
   "id": "2d8665a2-5361-4d44-94dd-45205ef4e9e9",
   "metadata": {},
   "source": [
    "## Results on `ImageNet-Mini`"
   ]
  },
  {
   "cell_type": "markdown",
   "id": "75c4b9b5-0d6e-474c-878b-4b459fa49841",
   "metadata": {},
   "source": [
    "> Note: This section involves generating counterfactual samples and training classifiers on IN-mini.\n",
    "> Generating CF samples can take about 3.5 hours and training the classifier about 2 hours on Lisa GPU."
   ]
  },
  {
   "cell_type": "markdown",
   "id": "b7e8cadd-cb65-48ce-a111-71f4fec9e59a",
   "metadata": {},
   "source": [
    "**Instruction to run it on a Lisa GPU**\n",
    "1. Create a job script as follows and save it as `lisa_imagenet.job`:\n",
    "\n",
    "```sh\n",
    "#!/bin/bash\n",
    "\n",
    "#SBATCH --partition=gpu_shared_course\n",
    "#SBATCH --gres=gpu:1\n",
    "#SBATCH --job-name=IN-mini\n",
    "#SBATCH --ntasks=1\n",
    "#SBATCH --cpus-per-task=2\n",
    "#SBATCH --time=10:00:00\n",
    "#SBATCH --mem=32000M\n",
    "#SBATCH --output=slurm_output_%A.out\n",
    "\n",
    "module purge\n",
    "module load 2021\n",
    "module load Anaconda3/2021.05\n",
    "\n",
    "# Activate your environment\n",
    "source deactivate\n",
    "source activate gcn-gpu\n",
    "\n",
    "# Run your code\n",
    "## runs all experiments to reproduce Table 3 and 4 in the paper\n",
    "python imagenet_pipeline.py\n",
    "## runs all additional analyses around explainability\n",
    "# python mnist_analysis.py\n",
    "```\n",
    "\n",
    "2. Run the job script using \n",
    "\n",
    "```sh\n",
    "cd /path/to/repo/experiments/\n",
    "sbatch lisa_imagenet.job\n",
    "```\n",
    "\n",
    "3. After these steps are done, you can run the following cells that will display the result."
   ]
  },
  {
   "cell_type": "markdown",
   "id": "1b834456-35f1-48e7-9de3-1706c1caa1b7",
   "metadata": {},
   "source": [
    "### Results for Table 3 and 4 from the paper"
   ]
  },
  {
   "cell_type": "code",
   "execution_count": 3,
   "id": "edb0eb63-63d0-4be5-8b5c-9f551331f2c6",
   "metadata": {},
   "outputs": [],
   "source": [
    "from imagenet_pipeline import run_experiments"
   ]
  },
  {
   "cell_type": "code",
   "execution_count": 17,
   "id": "0776f3a4-12ad-4724-8b94-3b19fe79ec73",
   "metadata": {},
   "outputs": [
    {
     "name": "stdout",
     "output_type": "stream",
     "text": [
      "\n",
      "::::: Generating CF dataset :::::\n",
      "\n",
      "\n",
      "Train dataset exists with 34745 images, skipping...\n",
      "Path to dataset: /home/lcur0478/piyush/projects/fact-team3/cgn_framework/imagenet/data/in-mini_train_trunc_0.5\n",
      "\n",
      "\n",
      "Val dataset exists with 3923 images, skipping...\n",
      "Path to dataset: /home/lcur0478/piyush/projects/fact-team3/cgn_framework/imagenet/data/in-mini_val_trunc_0.5\n",
      "\n",
      "\n",
      "::::: Training classifier :::::\n",
      "\n",
      "::::: Classifier already trained, skipping :::::\n",
      "Loading results for epoch 6 from /home/lcur0478/piyush/projects/fact-team3/cgn_framework/imagenet/experiments/classifier__in-mini-classifier/epochwise_metrics/epoch_6.pt\n",
      "\n",
      "::::: Evaluating OOD :::::\n",
      "\n",
      "::::: Running cgn-ensemble on in-mini...\n",
      "::: Result file /home/lcur0478/piyush/projects/fact-team3/cgn_framework/imagenet/experiments/ood_eval/cgn-ensemble_in-mini/results_seed_0.json already exists & --ignore_cache=False\n",
      "::::: Running cgn-ensemble on in-a...\n",
      "::: Result file /home/lcur0478/piyush/projects/fact-team3/cgn_framework/imagenet/experiments/ood_eval/cgn-ensemble_in-a/results_seed_0.json already exists & --ignore_cache=False\n",
      "::::: Running cgn-ensemble on in-stylized...\n",
      "::: Result file /home/lcur0478/piyush/projects/fact-team3/cgn_framework/imagenet/experiments/ood_eval/cgn-ensemble_in-stylized/results_seed_0.json already exists & --ignore_cache=False\n",
      "::::: Running cgn-ensemble on in-sketch...\n",
      "::: Result file /home/lcur0478/piyush/projects/fact-team3/cgn_framework/imagenet/experiments/ood_eval/cgn-ensemble_in-sketch/results_seed_0.json already exists & --ignore_cache=False\n",
      "::::: Running resnet50 on in-mini...\n",
      "::: Result file /home/lcur0478/piyush/projects/fact-team3/cgn_framework/imagenet/experiments/ood_eval/resnet50_in-mini/results_seed_0.json already exists & --ignore_cache=False\n",
      "::::: Running resnet50 on in-a...\n",
      "::: Result file /home/lcur0478/piyush/projects/fact-team3/cgn_framework/imagenet/experiments/ood_eval/resnet50-from-scratch_in-a/results_seed_0.json already exists & --ignore_cache=False\n",
      "::::: Running resnet50 on in-stylized...\n",
      "::: Result file /home/lcur0478/piyush/projects/fact-team3/cgn_framework/imagenet/experiments/ood_eval/resnet50_in-stylized/results_seed_0.json already exists & --ignore_cache=False\n",
      "::::: Running resnet50 on in-sketch...\n",
      "::: Result file /home/lcur0478/piyush/projects/fact-team3/cgn_framework/imagenet/experiments/ood_eval/resnet50_in-sketch/results_seed_0.json already exists & --ignore_cache=False\n"
     ]
    }
   ],
   "source": [
    "# temporarily showing results for 0th epoch\n",
    "metrics_clf, df_ood = run_experiments(seed=0, disp_epoch=6)"
   ]
  },
  {
   "cell_type": "code",
   "execution_count": 18,
   "id": "173b59f3-a15d-4b28-b8a2-97a43fb468e3",
   "metadata": {},
   "outputs": [],
   "source": [
    "# construct Table 3 of the paper\n",
    "\n",
    "heads = [\"shape\", \"texture\", \"bg\"]\n",
    "table_3 = pd.DataFrame(\n",
    "    None,\n",
    "    columns=[\"Shape bias\", \"Top 1\", \"Top 5\"],\n",
    "    index=[f\"IN-mini + CGN/{h}\" for h in heads],\n",
    ")\n",
    "for i, h in enumerate(heads):\n",
    "    table_3.at[f\"IN-mini + CGN/{h}\", \"Shape bias\"] = metrics_clf[f\"shape_biases/{i}_m_{h}_bias\"]\n",
    "    table_3.at[f\"IN-mini + CGN/{h}\", \"Top 1\"] = metrics_clf[f\"acc1/1_real\"]\n",
    "    table_3.at[f\"IN-mini + CGN/{h}\", \"Top 5\"] = metrics_clf[f\"acc5/1_real\"]\n",
    "\n",
    "table_3[\"Shape bias\"] *= 100.0\n",
    "table_3 = table_3.astype(float).round(1)"
   ]
  },
  {
   "cell_type": "code",
   "execution_count": 19,
   "id": "83de2efd-e746-4fb2-9d47-ed8c7557829c",
   "metadata": {},
   "outputs": [
    {
     "data": {
      "text/html": [
       "<div>\n",
       "<style scoped>\n",
       "    .dataframe tbody tr th:only-of-type {\n",
       "        vertical-align: middle;\n",
       "    }\n",
       "\n",
       "    .dataframe tbody tr th {\n",
       "        vertical-align: top;\n",
       "    }\n",
       "\n",
       "    .dataframe thead th {\n",
       "        text-align: right;\n",
       "    }\n",
       "</style>\n",
       "<table border=\"1\" class=\"dataframe\">\n",
       "  <thead>\n",
       "    <tr style=\"text-align: right;\">\n",
       "      <th></th>\n",
       "      <th>Shape bias</th>\n",
       "      <th>Top 1</th>\n",
       "      <th>Top 5</th>\n",
       "    </tr>\n",
       "  </thead>\n",
       "  <tbody>\n",
       "    <tr>\n",
       "      <th>IN-mini + CGN/shape</th>\n",
       "      <td>45.7</td>\n",
       "      <td>52.2</td>\n",
       "      <td>76.8</td>\n",
       "    </tr>\n",
       "    <tr>\n",
       "      <th>IN-mini + CGN/texture</th>\n",
       "      <td>19.2</td>\n",
       "      <td>52.2</td>\n",
       "      <td>76.8</td>\n",
       "    </tr>\n",
       "    <tr>\n",
       "      <th>IN-mini + CGN/bg</th>\n",
       "      <td>29.6</td>\n",
       "      <td>52.2</td>\n",
       "      <td>76.8</td>\n",
       "    </tr>\n",
       "  </tbody>\n",
       "</table>\n",
       "</div>"
      ],
      "text/plain": [
       "                       Shape bias  Top 1  Top 5\n",
       "IN-mini + CGN/shape          45.7   52.2   76.8\n",
       "IN-mini + CGN/texture        19.2   52.2   76.8\n",
       "IN-mini + CGN/bg             29.6   52.2   76.8"
      ]
     },
     "execution_count": 19,
     "metadata": {},
     "output_type": "execute_result"
    }
   ],
   "source": [
    "table_3"
   ]
  },
  {
   "cell_type": "code",
   "execution_count": 20,
   "id": "0e2d19e4-1a76-4a06-bfe3-a5f46e88a4da",
   "metadata": {},
   "outputs": [],
   "source": [
    "# construct Table 4 of the paper\n",
    "table_4 = pd.DataFrame(\n",
    "    None,\n",
    "    columns=[\"IN-9\", \"Mixed-same\", \"Mixed-rand\", \"BG-gap\"],\n",
    "    index=[\"IN-mini + CGN\"],\n",
    ")\n",
    "\n",
    "col_to_key = {\n",
    "    \"IN-9\": \"in_9_acc1_original/avg\",\n",
    "    \"Mixed-same\": \"in_9_acc1_mixed_same/avg\",\n",
    "    \"Mixed-rand\": \"in_9_acc1_mixed_rand/avg\",\n",
    "    \"BG-gap\": \"in_9_gaps/bg_gap\",\n",
    "}\n",
    "\n",
    "for c in table_4.columns:\n",
    "    assert col_to_key[c] in metrics_clf\n",
    "    key = col_to_key[c]\n",
    "    table_4.at[\"IN-mini + CGN\", c] = metrics_clf[key]\n",
    "\n",
    "table_4 = table_4.astype(float).round(1)"
   ]
  },
  {
   "cell_type": "code",
   "execution_count": 21,
   "id": "9486cd7f-c6a2-4d0a-b9ab-4aec75d10633",
   "metadata": {},
   "outputs": [
    {
     "data": {
      "text/html": [
       "<div>\n",
       "<style scoped>\n",
       "    .dataframe tbody tr th:only-of-type {\n",
       "        vertical-align: middle;\n",
       "    }\n",
       "\n",
       "    .dataframe tbody tr th {\n",
       "        vertical-align: top;\n",
       "    }\n",
       "\n",
       "    .dataframe thead th {\n",
       "        text-align: right;\n",
       "    }\n",
       "</style>\n",
       "<table border=\"1\" class=\"dataframe\">\n",
       "  <thead>\n",
       "    <tr style=\"text-align: right;\">\n",
       "      <th></th>\n",
       "      <th>IN-9</th>\n",
       "      <th>Mixed-same</th>\n",
       "      <th>Mixed-rand</th>\n",
       "      <th>BG-gap</th>\n",
       "    </tr>\n",
       "  </thead>\n",
       "  <tbody>\n",
       "    <tr>\n",
       "      <th>IN-mini + CGN</th>\n",
       "      <td>84.2</td>\n",
       "      <td>67.5</td>\n",
       "      <td>57.4</td>\n",
       "      <td>4.6</td>\n",
       "    </tr>\n",
       "  </tbody>\n",
       "</table>\n",
       "</div>"
      ],
      "text/plain": [
       "               IN-9  Mixed-same  Mixed-rand  BG-gap\n",
       "IN-mini + CGN  84.2        67.5        57.4     4.6"
      ]
     },
     "execution_count": 21,
     "metadata": {},
     "output_type": "execute_result"
    }
   ],
   "source": [
    "table_4"
   ]
  },
  {
   "cell_type": "markdown",
   "id": "a7cd1e35-0ebc-4cc2-87a5-d52f5d20ae7c",
   "metadata": {},
   "source": [
    "### Interpretability Analysis "
   ]
  },
  {
   "cell_type": "code",
   "execution_count": 22,
   "id": "75065dd9-d4d0-482e-8978-764c9dfc3de0",
   "metadata": {},
   "outputs": [],
   "source": [
    "# add a link to the Colab NB here"
   ]
  },
  {
   "cell_type": "markdown",
   "id": "15260f61-863a-4f72-ba95-c23ee628dfa6",
   "metadata": {},
   "source": [
    "### Robustness to out-of-distribution generalization"
   ]
  },
  {
   "cell_type": "code",
   "execution_count": 23,
   "id": "ac064bbe-a579-43b2-b8f9-822df7057fbb",
   "metadata": {},
   "outputs": [
    {
     "data": {
      "text/html": [
       "<div>\n",
       "<style scoped>\n",
       "    .dataframe tbody tr th:only-of-type {\n",
       "        vertical-align: middle;\n",
       "    }\n",
       "\n",
       "    .dataframe tbody tr th {\n",
       "        vertical-align: top;\n",
       "    }\n",
       "\n",
       "    .dataframe thead th {\n",
       "        text-align: right;\n",
       "    }\n",
       "</style>\n",
       "<table border=\"1\" class=\"dataframe\">\n",
       "  <thead>\n",
       "    <tr style=\"text-align: right;\">\n",
       "      <th></th>\n",
       "      <th>in-mini</th>\n",
       "      <th>in-a</th>\n",
       "      <th>in-stylized</th>\n",
       "      <th>in-sketch</th>\n",
       "    </tr>\n",
       "  </thead>\n",
       "  <tbody>\n",
       "    <tr>\n",
       "      <th>cgn-ensemble</th>\n",
       "      <td>56.793</td>\n",
       "      <td>1.386667</td>\n",
       "      <td>17.1875</td>\n",
       "      <td>11.774647</td>\n",
       "    </tr>\n",
       "    <tr>\n",
       "      <th>resnet50</th>\n",
       "      <td>75.58</td>\n",
       "      <td>3.4</td>\n",
       "      <td>19.21875</td>\n",
       "      <td>24.092</td>\n",
       "    </tr>\n",
       "  </tbody>\n",
       "</table>\n",
       "</div>"
      ],
      "text/plain": [
       "             in-mini      in-a in-stylized  in-sketch\n",
       "cgn-ensemble  56.793  1.386667     17.1875  11.774647\n",
       "resnet50       75.58       3.4    19.21875     24.092"
      ]
     },
     "execution_count": 23,
     "metadata": {},
     "output_type": "execute_result"
    }
   ],
   "source": [
    "df_ood"
   ]
  },
  {
   "cell_type": "code",
   "execution_count": null,
   "id": "ba42a968-958e-4246-8a4b-aa031a5e0a0f",
   "metadata": {},
   "outputs": [],
   "source": []
  }
 ],
 "metadata": {
  "kernelspec": {
   "display_name": "Python 3 (ipykernel)",
   "language": "python",
   "name": "python3"
  },
  "language_info": {
   "codemirror_mode": {
    "name": "ipython",
    "version": 3
   },
   "file_extension": ".py",
   "mimetype": "text/x-python",
   "name": "python",
   "nbconvert_exporter": "python",
   "pygments_lexer": "ipython3",
   "version": "3.9.7"
  }
 },
 "nbformat": 4,
 "nbformat_minor": 5
}
